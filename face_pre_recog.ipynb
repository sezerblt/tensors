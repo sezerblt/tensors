{
  "nbformat": 4,
  "nbformat_minor": 0,
  "metadata": {
    "colab": {
      "name": "face_pre_recog.ipynb",
      "provenance": [],
      "private_outputs": true,
      "authorship_tag": "ABX9TyN/1JIDs6oxAtGbMWEwKFDa",
      "include_colab_link": true
    },
    "kernelspec": {
      "name": "python3",
      "display_name": "Python 3"
    }
  },
  "cells": [
    {
      "cell_type": "markdown",
      "metadata": {
        "id": "view-in-github",
        "colab_type": "text"
      },
      "source": [
        "<a href=\"https://colab.research.google.com/github/sezerblt/tensors/blob/master/face_pre_recog.ipynb\" target=\"_parent\"><img src=\"https://colab.research.google.com/assets/colab-badge.svg\" alt=\"Open In Colab\"/></a>"
      ]
    },
    {
      "cell_type": "code",
      "metadata": {
        "id": "sL2u-ACzfBUN",
        "colab_type": "code",
        "colab": {}
      },
      "source": [
        "import cv2\n",
        "import numpy as np\n",
        "import os\n",
        "\n",
        "def dataset():\n",
        "    images = []\n",
        "    labels = []\n",
        "    labels_dic = {}\n",
        "    people = [person for person in os.listdir(\"people/\")]\n",
        "    for i, person in enumerate(people):\n",
        "            labels_dic[i] = person\n",
        "            for image in os.listdir(\"people/\" + person):\n",
        "                    images.append(cv2.imread(\"people/\" + person + '/' + image, 0))\n",
        "                    labels.append(person)\n",
        "       \n",
        "    return (images, np.array(labels), labels_dic)\n",
        "\n",
        "images, labels, labels_dic = dataset()\n"
      ],
      "execution_count": 0,
      "outputs": []
    },
    {
      "cell_type": "code",
      "metadata": {
        "id": "AwRUzW-ufnbn",
        "colab_type": "code",
        "colab": {}
      },
      "source": [
        "class FaceDetector(object):\n",
        "    def __init__(self, xml_path):\n",
        "        self.classifier = cv2.CascadeClassifier(xml_path)\n",
        "    \n",
        "    def detect(self, image, biggest_only=True):\n",
        "        scale_factor = 1.2\n",
        "        min_neighbors = 5\n",
        "        min_size = (30, 30)\n",
        "        biggest_only = True\n",
        "        faces_coord = self.classifier.detectMultiScale(image,\n",
        "                                                       scaleFactor=scale_factor,\n",
        "                                                       minNeighbors=min_neighbors,\n",
        "                                                       minSize=min_size,\n",
        "                                                       flags=cv2.CASCADE_SCALE_IMAGE)\n",
        "        return faces_coord\n",
        "\n",
        "def cut_faces(image, faces_coord):\n",
        "    faces = []\n",
        "    \n",
        "    for (x, y, w, h) in faces_coord:\n",
        "        w_rm = int(0.3 * w / 2)\n",
        "        faces.append(image[y: y + h, x + w_rm: x + w - w_rm])\n",
        "         \n",
        "    return faces\n",
        "\n",
        "def resize(images, size=(224, 224)):\n",
        "    images_norm = []\n",
        "    for image in images:\n",
        "        if image.shape < size:\n",
        "            image_norm = cv2.resize(image, size, \n",
        "                                    interpolation=cv2.INTER_AREA)\n",
        "        else:\n",
        "            image_norm = cv2.resize(image, size, \n",
        "                                    interpolation=cv2.INTER_CUBIC)\n",
        "        images_norm.append(image_norm)\n",
        "\n",
        "    return images_norm\n",
        "\n",
        "\n",
        "\n",
        "def normalize_faces(image, faces_coord):\n",
        "\n",
        "    faces = cut_faces(image, faces_coord)\n",
        "    faces = resize(faces)\n",
        "    \n",
        "    return faces\n",
        "  \n",
        "for image in images:\n",
        "    detector = FaceDetector(\"haarcascade_frontalface_default.xml\")\n",
        "    faces_coord = detector.detect(image, True)\n",
        "    faces = normalize_faces(image ,faces_coord)\n",
        "    for i, face in enumerate(faces):\n",
        "            cv2.imwrite('%s.jpeg' % (count), faces[i])\n",
        "            count += 1  "
      ],
      "execution_count": 0,
      "outputs": []
    }
  ]
}